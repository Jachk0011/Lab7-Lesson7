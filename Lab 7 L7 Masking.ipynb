{
 "cells": [
  {
   "cell_type": "code",
   "execution_count": 1,
   "metadata": {},
   "outputs": [
    {
     "data": {
      "application/vnd.jupyter.widget-view+json": {
       "model_id": "",
       "version_major": 2,
       "version_minor": 0
      },
      "text/plain": []
     },
     "metadata": {},
     "output_type": "display_data"
    },
    {
     "data": {
      "text/html": [
       "<b>Pipeline Execution Time:</b> 2.04 Seconds"
      ],
      "text/plain": [
       "<IPython.core.display.HTML object>"
      ]
     },
     "metadata": {},
     "output_type": "display_data"
    },
    {
     "name": "stdout",
     "output_type": "stream",
     "text": [
      "Number of securities that passed the filter: 5\n"
     ]
    }
   ],
   "source": [
    "from quantopian.pipeline import Pipeline\n",
    "from quantopian.research import run_pipeline\n",
    "from quantopian.pipeline.factors import AverageDollarVolume\n",
    "from quantopian.pipeline.data.builtin import USEquityPricing\n",
    "\n",
    "def make_pipeline():\n",
    "\n",
    "    # Dollar volume factor\n",
    "    dollar_volume = AverageDollarVolume(window_length=30)\n",
    "\n",
    "    # High dollar volume filter\n",
    "    high_dollar_volume = dollar_volume.percentile_between(90,100)\n",
    "\n",
    "    # Top open securities filter (high dollar volume securities)\n",
    "    top_open_price = USEquityPricing.open.latest.top(50, mask=high_dollar_volume)\n",
    "\n",
    "    # Top percentile close price filter (high dollar volume, top 50 open price)\n",
    "    high_close_price = USEquityPricing.close.latest.percentile_between(90, 100, mask=top_open_price)\n",
    "\n",
    "    return Pipeline(\n",
    "        screen=high_close_price\n",
    "    )\n",
    "    \n",
    "result = run_pipeline(make_pipeline(),'2015-05-05','2015-05-05')    \n",
    "print('Number of securities that passed the filter: %d' % len(result))"
   ]
  },
  {
   "cell_type": "code",
   "execution_count": null,
   "metadata": {},
   "outputs": [],
   "source": []
  }
 ],
 "metadata": {
  "kernelspec": {
   "display_name": "Python 3.5",
   "language": "python",
   "name": "py35"
  },
  "language_info": {
   "codemirror_mode": {
    "name": "ipython",
    "version": 3
   },
   "file_extension": ".py",
   "mimetype": "text/x-python",
   "name": "python",
   "nbconvert_exporter": "python",
   "pygments_lexer": "ipython3",
   "version": "3.5.9"
  }
 },
 "nbformat": 4,
 "nbformat_minor": 2
}
